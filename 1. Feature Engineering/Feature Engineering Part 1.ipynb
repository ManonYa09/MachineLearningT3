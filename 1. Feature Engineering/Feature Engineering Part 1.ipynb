{
 "cells": [
  {
   "cell_type": "code",
   "execution_count": 2,
   "id": "58c1c5b7-e12e-4bc6-a06f-0fcf77f0affb",
   "metadata": {},
   "outputs": [],
   "source": [
    "import pandas as pd"
   ]
  },
  {
   "cell_type": "code",
   "execution_count": 4,
   "id": "4b93da44-3d28-4249-92d5-7fa5d9d6b475",
   "metadata": {},
   "outputs": [],
   "source": [
    "df = pd.read_csv('https://raw.githubusercontent.com/ManonYa09/Machine_Learning_G3/refs/heads/main/Dataset/2.%20Bank%20Customer%20Churn%20Prediction.csv')"
   ]
  },
  {
   "cell_type": "markdown",
   "id": "25c2bf53-2edf-4a89-aa9e-7425fefd2a42",
   "metadata": {},
   "source": [
    "### 1. Quick Exploration"
   ]
  },
  {
   "cell_type": "code",
   "execution_count": 151,
   "id": "9c65d889-911b-4bdc-abc1-ea2bdcab9a6f",
   "metadata": {},
   "outputs": [
    {
     "data": {
      "text/plain": [
       "555736148147360461"
      ]
     },
     "execution_count": 151,
     "metadata": {},
     "output_type": "execute_result"
    }
   ],
   "source": [
    "4143131*134134341431"
   ]
  },
  {
   "cell_type": "code",
   "execution_count": 6,
   "id": "038cb0e8-ae99-48aa-b299-68f274c6464e",
   "metadata": {
    "scrolled": true
   },
   "outputs": [
    {
     "data": {
      "text/html": [
       "<div>\n",
       "<style scoped>\n",
       "    .dataframe tbody tr th:only-of-type {\n",
       "        vertical-align: middle;\n",
       "    }\n",
       "\n",
       "    .dataframe tbody tr th {\n",
       "        vertical-align: top;\n",
       "    }\n",
       "\n",
       "    .dataframe thead th {\n",
       "        text-align: right;\n",
       "    }\n",
       "</style>\n",
       "<table border=\"1\" class=\"dataframe\">\n",
       "  <thead>\n",
       "    <tr style=\"text-align: right;\">\n",
       "      <th></th>\n",
       "      <th>customer_id</th>\n",
       "      <th>credit_score</th>\n",
       "      <th>country</th>\n",
       "      <th>gender</th>\n",
       "      <th>age</th>\n",
       "      <th>tenure</th>\n",
       "      <th>balance</th>\n",
       "      <th>products_number</th>\n",
       "      <th>credit_card</th>\n",
       "      <th>active_member</th>\n",
       "      <th>estimated_salary</th>\n",
       "      <th>churn</th>\n",
       "    </tr>\n",
       "  </thead>\n",
       "  <tbody>\n",
       "    <tr>\n",
       "      <th>1165</th>\n",
       "      <td>15723907</td>\n",
       "      <td>712</td>\n",
       "      <td>Germany</td>\n",
       "      <td>Female</td>\n",
       "      <td>49</td>\n",
       "      <td>5</td>\n",
       "      <td>154776.42</td>\n",
       "      <td>2</td>\n",
       "      <td>0</td>\n",
       "      <td>0</td>\n",
       "      <td>196257.68</td>\n",
       "      <td>0</td>\n",
       "    </tr>\n",
       "    <tr>\n",
       "      <th>9550</th>\n",
       "      <td>15721715</td>\n",
       "      <td>769</td>\n",
       "      <td>France</td>\n",
       "      <td>Female</td>\n",
       "      <td>40</td>\n",
       "      <td>9</td>\n",
       "      <td>133871.05</td>\n",
       "      <td>1</td>\n",
       "      <td>1</td>\n",
       "      <td>1</td>\n",
       "      <td>50568.02</td>\n",
       "      <td>0</td>\n",
       "    </tr>\n",
       "    <tr>\n",
       "      <th>2091</th>\n",
       "      <td>15672945</td>\n",
       "      <td>661</td>\n",
       "      <td>France</td>\n",
       "      <td>Female</td>\n",
       "      <td>37</td>\n",
       "      <td>5</td>\n",
       "      <td>136425.18</td>\n",
       "      <td>1</td>\n",
       "      <td>1</td>\n",
       "      <td>0</td>\n",
       "      <td>81102.81</td>\n",
       "      <td>0</td>\n",
       "    </tr>\n",
       "    <tr>\n",
       "      <th>1446</th>\n",
       "      <td>15680855</td>\n",
       "      <td>637</td>\n",
       "      <td>France</td>\n",
       "      <td>Male</td>\n",
       "      <td>33</td>\n",
       "      <td>2</td>\n",
       "      <td>145731.83</td>\n",
       "      <td>1</td>\n",
       "      <td>0</td>\n",
       "      <td>1</td>\n",
       "      <td>109219.43</td>\n",
       "      <td>0</td>\n",
       "    </tr>\n",
       "  </tbody>\n",
       "</table>\n",
       "</div>"
      ],
      "text/plain": [
       "      customer_id  credit_score  country  gender  age  tenure    balance  \\\n",
       "1165     15723907           712  Germany  Female   49       5  154776.42   \n",
       "9550     15721715           769   France  Female   40       9  133871.05   \n",
       "2091     15672945           661   France  Female   37       5  136425.18   \n",
       "1446     15680855           637   France    Male   33       2  145731.83   \n",
       "\n",
       "      products_number  credit_card  active_member  estimated_salary  churn  \n",
       "1165                2            0              0         196257.68      0  \n",
       "9550                1            1              1          50568.02      0  \n",
       "2091                1            1              0          81102.81      0  \n",
       "1446                1            0              1         109219.43      0  "
      ]
     },
     "execution_count": 6,
     "metadata": {},
     "output_type": "execute_result"
    }
   ],
   "source": [
    "df.sample(n = 4)"
   ]
  },
  {
   "cell_type": "code",
   "execution_count": 10,
   "id": "c6df40b3-07af-4095-9126-be6e700423ca",
   "metadata": {},
   "outputs": [],
   "source": [
    "# df.info()"
   ]
  },
  {
   "cell_type": "markdown",
   "id": "4cb4ca65-95fc-43ff-ba46-ec67e3166c9e",
   "metadata": {},
   "source": [
    "### 2. EDA\n",
    "#### 2.1 Diagnostics Analysis"
   ]
  },
  {
   "cell_type": "code",
   "execution_count": 54,
   "id": "e1edcb40-9dd2-4de1-927f-dc5786572e64",
   "metadata": {},
   "outputs": [
    {
     "data": {
      "text/plain": [
       "country  churn\n",
       "France   0        4204\n",
       "         1         810\n",
       "Germany  0        1695\n",
       "         1         814\n",
       "Spain    0        2064\n",
       "         1         413\n",
       "Name: count, dtype: int64"
      ]
     },
     "execution_count": 54,
     "metadata": {},
     "output_type": "execute_result"
    }
   ],
   "source": [
    "df.groupby(df['country'])['churn'].value_counts()"
   ]
  },
  {
   "cell_type": "code",
   "execution_count": 58,
   "id": "f622b968-b9b2-4d54-bc73-d0f38ccd08b3",
   "metadata": {},
   "outputs": [
    {
     "data": {
      "text/plain": [
       "gender  churn\n",
       "Female  0        3404\n",
       "        1        1139\n",
       "Male    0        4559\n",
       "        1         898\n",
       "Name: count, dtype: int64"
      ]
     },
     "execution_count": 58,
     "metadata": {},
     "output_type": "execute_result"
    }
   ],
   "source": [
    "df.groupby(df['gender'])['churn'].value_counts()"
   ]
  },
  {
   "cell_type": "markdown",
   "id": "e743b53f-c430-4de8-8365-93d52a0ef730",
   "metadata": {},
   "source": [
    "###  3.Feature Engineering"
   ]
  },
  {
   "cell_type": "markdown",
   "id": "5b4f76fd-1e7e-43b9-8011-420fdbefe6ab",
   "metadata": {},
   "source": [
    "#### 3.1 Categorical\n",
    "Convert `Categorical` columns to `Numerical`\n",
    "```python\n",
    "sklearn.preprocessing import \n",
    "```"
   ]
  },
  {
   "cell_type": "code",
   "execution_count": 93,
   "id": "b52a76b6-6631-4d69-820c-20b5cc3a11a7",
   "metadata": {},
   "outputs": [],
   "source": [
    "from sklearn.preprocessing import OneHotEncoder, OrdinalEncoder"
   ]
  },
  {
   "cell_type": "code",
   "execution_count": 97,
   "id": "2b1f1b60-5ba5-48ae-ac8d-61b9711e8c38",
   "metadata": {},
   "outputs": [],
   "source": [
    "Ordinal = OrdinalEncoder()\n",
    "Onehot = OneHotEncoder()"
   ]
  },
  {
   "cell_type": "code",
   "execution_count": 115,
   "id": "5196dfb3-fa15-47a6-b7e7-51b5afd6eef0",
   "metadata": {},
   "outputs": [],
   "source": [
    "Onehot.fit_transform(df[['gender']]).toarray()"
   ]
  },
  {
   "cell_type": "code",
   "execution_count": 117,
   "id": "267da9ea-b236-4dd8-8c36-1f85fec9f63e",
   "metadata": {},
   "outputs": [],
   "source": [
    "Ordinal.fit_transform(df[['gender']])"
   ]
  },
  {
   "cell_type": "code",
   "execution_count": 42,
   "id": "2d7834c5-3d8d-43e2-a09b-b9c50a7eaff8",
   "metadata": {},
   "outputs": [],
   "source": [
    "df['country'] ## array(1d) -> series[1-d] , 2-d Pandas, Tensor  "
   ]
  },
  {
   "cell_type": "code",
   "execution_count": 82,
   "id": "f875686d-12c4-465b-a4a7-88e21f8a50b2",
   "metadata": {},
   "outputs": [],
   "source": [
    "df1 = df[['country']].sample(100)"
   ]
  },
  {
   "cell_type": "code",
   "execution_count": 86,
   "id": "0d8f2a6d-888b-4f2c-b2af-6c1a78ec2f59",
   "metadata": {},
   "outputs": [],
   "source": [
    "categorical = ['country', 'gender']"
   ]
  },
  {
   "cell_type": "markdown",
   "id": "65fb74f6-c978-4c15-85db-8fe183b36217",
   "metadata": {},
   "source": [
    "#### categorical convert to number"
   ]
  },
  {
   "cell_type": "code",
   "execution_count": 88,
   "id": "73115410-af45-4a2d-bbf1-81c81e6d9325",
   "metadata": {},
   "outputs": [
    {
     "data": {
      "text/html": [
       "<style>#sk-container-id-4 {color: black;background-color: white;}#sk-container-id-4 pre{padding: 0;}#sk-container-id-4 div.sk-toggleable {background-color: white;}#sk-container-id-4 label.sk-toggleable__label {cursor: pointer;display: block;width: 100%;margin-bottom: 0;padding: 0.3em;box-sizing: border-box;text-align: center;}#sk-container-id-4 label.sk-toggleable__label-arrow:before {content: \"▸\";float: left;margin-right: 0.25em;color: #696969;}#sk-container-id-4 label.sk-toggleable__label-arrow:hover:before {color: black;}#sk-container-id-4 div.sk-estimator:hover label.sk-toggleable__label-arrow:before {color: black;}#sk-container-id-4 div.sk-toggleable__content {max-height: 0;max-width: 0;overflow: hidden;text-align: left;background-color: #f0f8ff;}#sk-container-id-4 div.sk-toggleable__content pre {margin: 0.2em;color: black;border-radius: 0.25em;background-color: #f0f8ff;}#sk-container-id-4 input.sk-toggleable__control:checked~div.sk-toggleable__content {max-height: 200px;max-width: 100%;overflow: auto;}#sk-container-id-4 input.sk-toggleable__control:checked~label.sk-toggleable__label-arrow:before {content: \"▾\";}#sk-container-id-4 div.sk-estimator input.sk-toggleable__control:checked~label.sk-toggleable__label {background-color: #d4ebff;}#sk-container-id-4 div.sk-label input.sk-toggleable__control:checked~label.sk-toggleable__label {background-color: #d4ebff;}#sk-container-id-4 input.sk-hidden--visually {border: 0;clip: rect(1px 1px 1px 1px);clip: rect(1px, 1px, 1px, 1px);height: 1px;margin: -1px;overflow: hidden;padding: 0;position: absolute;width: 1px;}#sk-container-id-4 div.sk-estimator {font-family: monospace;background-color: #f0f8ff;border: 1px dotted black;border-radius: 0.25em;box-sizing: border-box;margin-bottom: 0.5em;}#sk-container-id-4 div.sk-estimator:hover {background-color: #d4ebff;}#sk-container-id-4 div.sk-parallel-item::after {content: \"\";width: 100%;border-bottom: 1px solid gray;flex-grow: 1;}#sk-container-id-4 div.sk-label:hover label.sk-toggleable__label {background-color: #d4ebff;}#sk-container-id-4 div.sk-serial::before {content: \"\";position: absolute;border-left: 1px solid gray;box-sizing: border-box;top: 0;bottom: 0;left: 50%;z-index: 0;}#sk-container-id-4 div.sk-serial {display: flex;flex-direction: column;align-items: center;background-color: white;padding-right: 0.2em;padding-left: 0.2em;position: relative;}#sk-container-id-4 div.sk-item {position: relative;z-index: 1;}#sk-container-id-4 div.sk-parallel {display: flex;align-items: stretch;justify-content: center;background-color: white;position: relative;}#sk-container-id-4 div.sk-item::before, #sk-container-id-4 div.sk-parallel-item::before {content: \"\";position: absolute;border-left: 1px solid gray;box-sizing: border-box;top: 0;bottom: 0;left: 50%;z-index: -1;}#sk-container-id-4 div.sk-parallel-item {display: flex;flex-direction: column;z-index: 1;position: relative;background-color: white;}#sk-container-id-4 div.sk-parallel-item:first-child::after {align-self: flex-end;width: 50%;}#sk-container-id-4 div.sk-parallel-item:last-child::after {align-self: flex-start;width: 50%;}#sk-container-id-4 div.sk-parallel-item:only-child::after {width: 0;}#sk-container-id-4 div.sk-dashed-wrapped {border: 1px dashed gray;margin: 0 0.4em 0.5em 0.4em;box-sizing: border-box;padding-bottom: 0.4em;background-color: white;}#sk-container-id-4 div.sk-label label {font-family: monospace;font-weight: bold;display: inline-block;line-height: 1.2em;}#sk-container-id-4 div.sk-label-container {text-align: center;}#sk-container-id-4 div.sk-container {/* jupyter's `normalize.less` sets `[hidden] { display: none; }` but bootstrap.min.css set `[hidden] { display: none !important; }` so we also need the `!important` here to be able to override the default hidden behavior on the sphinx rendered scikit-learn.org. See: https://github.com/scikit-learn/scikit-learn/issues/21755 */display: inline-block !important;position: relative;}#sk-container-id-4 div.sk-text-repr-fallback {display: none;}</style><div id=\"sk-container-id-4\" class=\"sk-top-container\"><div class=\"sk-text-repr-fallback\"><pre>OneHotEncoder()</pre><b>In a Jupyter environment, please rerun this cell to show the HTML representation or trust the notebook. <br />On GitHub, the HTML representation is unable to render, please try loading this page with nbviewer.org.</b></div><div class=\"sk-container\" hidden><div class=\"sk-item\"><div class=\"sk-estimator sk-toggleable\"><input class=\"sk-toggleable__control sk-hidden--visually\" id=\"sk-estimator-id-4\" type=\"checkbox\" checked><label for=\"sk-estimator-id-4\" class=\"sk-toggleable__label sk-toggleable__label-arrow\">OneHotEncoder</label><div class=\"sk-toggleable__content\"><pre>OneHotEncoder()</pre></div></div></div></div></div>"
      ],
      "text/plain": [
       "OneHotEncoder()"
      ]
     },
     "execution_count": 88,
     "metadata": {},
     "output_type": "execute_result"
    }
   ],
   "source": [
    "Onehot.fit(df[categorical])"
   ]
  },
  {
   "cell_type": "code",
   "execution_count": 119,
   "id": "33cf2937-6fa7-4d15-8227-c48827e55b7f",
   "metadata": {},
   "outputs": [],
   "source": [
    "Onehot.transform(df[categorical]).toarray()"
   ]
  },
  {
   "cell_type": "code",
   "execution_count": 84,
   "id": "dc1c3198-b2b3-4760-95ef-84645327eeca",
   "metadata": {},
   "outputs": [
    {
     "data": {
      "text/plain": [
       "<100x3 sparse matrix of type '<class 'numpy.float64'>'\n",
       "\twith 100 stored elements in Compressed Sparse Row format>"
      ]
     },
     "execution_count": 84,
     "metadata": {},
     "output_type": "execute_result"
    }
   ],
   "source": [
    "Onehot.transform(df1)"
   ]
  },
  {
   "cell_type": "code",
   "execution_count": 62,
   "id": "5ebfe2ac-0ef9-492c-a63d-a4559862b5cb",
   "metadata": {},
   "outputs": [],
   "source": [
    "# df[['country']]"
   ]
  },
  {
   "cell_type": "code",
   "execution_count": 50,
   "id": "d5abe22c-0342-4a41-b601-41cae1646d4f",
   "metadata": {
    "scrolled": true
   },
   "outputs": [
    {
     "data": {
      "text/plain": [
       "array([[1., 0., 0.],\n",
       "       [0., 0., 1.],\n",
       "       [1., 0., 0.],\n",
       "       ...,\n",
       "       [1., 0., 0.],\n",
       "       [0., 1., 0.],\n",
       "       [1., 0., 0.]])"
      ]
     },
     "execution_count": 50,
     "metadata": {},
     "output_type": "execute_result"
    }
   ],
   "source": [
    "Onehot.fit_transform(df[['country']]).toarray()"
   ]
  },
  {
   "cell_type": "markdown",
   "id": "db2b0916-ddcc-4702-b2e9-389e04318904",
   "metadata": {},
   "source": [
    "#### 3.2 Feature Scaling"
   ]
  },
  {
   "cell_type": "code",
   "execution_count": 179,
   "id": "fa53f36f-ca3b-45de-9ae6-ff3933f42493",
   "metadata": {},
   "outputs": [],
   "source": [
    "from sklearn.preprocessing import StandardScaler, MaxAbsScaler"
   ]
  },
  {
   "cell_type": "code",
   "execution_count": 157,
   "id": "e4767442-a980-4a75-9607-7f85b7ed7a3d",
   "metadata": {},
   "outputs": [],
   "source": [
    "numerical =['age']"
   ]
  },
  {
   "cell_type": "code",
   "execution_count": 169,
   "id": "59d1f3dc-1a68-45f0-9b53-d208f99520e0",
   "metadata": {},
   "outputs": [],
   "source": [
    "df1 = df.copy()"
   ]
  },
  {
   "cell_type": "code",
   "execution_count": 183,
   "id": "1ff57d5f-5f1e-4555-ab55-136feca1b276",
   "metadata": {},
   "outputs": [],
   "source": [
    "df1['age1'] = MaxAbsScaler().fit_transform(df[['age']])"
   ]
  },
  {
   "cell_type": "code",
   "execution_count": 185,
   "id": "95399ad6-1a37-4abd-85a7-525279adf766",
   "metadata": {},
   "outputs": [
    {
     "data": {
      "text/plain": [
       "count    10000.000000\n",
       "mean         0.423063\n",
       "std          0.113998\n",
       "min          0.195652\n",
       "25%          0.347826\n",
       "50%          0.402174\n",
       "75%          0.478261\n",
       "max          1.000000\n",
       "Name: age1, dtype: float64"
      ]
     },
     "execution_count": 185,
     "metadata": {},
     "output_type": "execute_result"
    }
   ],
   "source": [
    "df1['age1'].describe()"
   ]
  },
  {
   "cell_type": "code",
   "execution_count": 171,
   "id": "92073557-f429-4636-99d8-15dbccb82323",
   "metadata": {},
   "outputs": [],
   "source": [
    "df1['age'] = StandardScaler().fit_transform(df[['age']])"
   ]
  },
  {
   "cell_type": "code",
   "execution_count": null,
   "id": "88365805-c082-42cb-9cf9-dd0bc936e927",
   "metadata": {},
   "outputs": [],
   "source": [
    "# 2* (10**(-16))"
   ]
  },
  {
   "cell_type": "code",
   "execution_count": 175,
   "id": "a4fbd2fe-2269-43fa-88c4-8d116a793220",
   "metadata": {},
   "outputs": [
    {
     "data": {
      "text/plain": [
       "2.318146e-16"
      ]
     },
     "execution_count": 175,
     "metadata": {},
     "output_type": "execute_result"
    }
   ],
   "source": [
    "# mean = 0 = 2.318146e-16"
   ]
  },
  {
   "cell_type": "code",
   "execution_count": 173,
   "id": "735efd06-a811-4cd8-9985-bfbebac1681d",
   "metadata": {},
   "outputs": [
    {
     "data": {
      "text/plain": [
       "count    1.000000e+04\n",
       "mean     2.318146e-16\n",
       "std      1.000050e+00\n",
       "min     -1.994969e+00\n",
       "25%     -6.600185e-01\n",
       "50%     -1.832505e-01\n",
       "75%      4.842246e-01\n",
       "max      5.061197e+00\n",
       "Name: age, dtype: float64"
      ]
     },
     "execution_count": 173,
     "metadata": {},
     "output_type": "execute_result"
    }
   ],
   "source": [
    "df1['age'].describe()"
   ]
  },
  {
   "cell_type": "markdown",
   "id": "53fa0484-2eac-445a-96b2-88d88cdc4f7a",
   "metadata": {},
   "source": [
    "#### 3.3 Cross Validation"
   ]
  },
  {
   "cell_type": "code",
   "execution_count": null,
   "id": "163f754d-d618-4387-86eb-9f9ba9ee2b58",
   "metadata": {},
   "outputs": [],
   "source": [
    "training, testing"
   ]
  },
  {
   "cell_type": "code",
   "execution_count": 122,
   "id": "106ccc9f-ab35-44fd-a7f2-b7e467d52401",
   "metadata": {},
   "outputs": [],
   "source": [
    "x = df.drop(columns='churn')\n",
    "y = df['churn']"
   ]
  },
  {
   "cell_type": "code",
   "execution_count": 124,
   "id": "d1926579-000a-4cdc-8e6b-5d93560be1cf",
   "metadata": {},
   "outputs": [],
   "source": [
    "from sklearn.model_selection import train_test_split"
   ]
  },
  {
   "cell_type": "code",
   "execution_count": 134,
   "id": "a6b2094b-2040-4279-98c3-be95fd7825ed",
   "metadata": {},
   "outputs": [],
   "source": [
    "# a, b = df.shape"
   ]
  },
  {
   "cell_type": "code",
   "execution_count": 141,
   "id": "47e44727-6ff7-4f4f-8cb7-a24fb227f075",
   "metadata": {},
   "outputs": [],
   "source": [
    "x_train, x_test, y_train, y_test = train_test_split(x, y, test_size=0.30)"
   ]
  },
  {
   "cell_type": "code",
   "execution_count": 145,
   "id": "1db5360e-99ad-4e41-91c1-8362867ea185",
   "metadata": {},
   "outputs": [
    {
     "name": "stdout",
     "output_type": "stream",
     "text": [
      "Training Size: (7000, 11)\n",
      "Testining Size: (3000, 11)\n"
     ]
    }
   ],
   "source": [
    "print('Training Size:', x_train.shape)\n",
    "print('Testining Size:',x_test.shape)"
   ]
  },
  {
   "cell_type": "code",
   "execution_count": 136,
   "id": "077a7f69-8773-4b61-972d-6e45961786a7",
   "metadata": {},
   "outputs": [
    {
     "data": {
      "text/plain": [
       "8234    1\n",
       "9568    0\n",
       "Name: churn, dtype: int64"
      ]
     },
     "execution_count": 136,
     "metadata": {},
     "output_type": "execute_result"
    }
   ],
   "source": [
    "y_train.head(2)"
   ]
  },
  {
   "cell_type": "code",
   "execution_count": 138,
   "id": "3c503c02-1906-4b6e-9e04-ab49718e9cab",
   "metadata": {},
   "outputs": [
    {
     "data": {
      "text/html": [
       "<div>\n",
       "<style scoped>\n",
       "    .dataframe tbody tr th:only-of-type {\n",
       "        vertical-align: middle;\n",
       "    }\n",
       "\n",
       "    .dataframe tbody tr th {\n",
       "        vertical-align: top;\n",
       "    }\n",
       "\n",
       "    .dataframe thead th {\n",
       "        text-align: right;\n",
       "    }\n",
       "</style>\n",
       "<table border=\"1\" class=\"dataframe\">\n",
       "  <thead>\n",
       "    <tr style=\"text-align: right;\">\n",
       "      <th></th>\n",
       "      <th>customer_id</th>\n",
       "      <th>credit_score</th>\n",
       "      <th>country</th>\n",
       "      <th>gender</th>\n",
       "      <th>age</th>\n",
       "      <th>tenure</th>\n",
       "      <th>balance</th>\n",
       "      <th>products_number</th>\n",
       "      <th>credit_card</th>\n",
       "      <th>active_member</th>\n",
       "      <th>estimated_salary</th>\n",
       "    </tr>\n",
       "  </thead>\n",
       "  <tbody>\n",
       "    <tr>\n",
       "      <th>8234</th>\n",
       "      <td>15677796</td>\n",
       "      <td>766</td>\n",
       "      <td>Germany</td>\n",
       "      <td>Male</td>\n",
       "      <td>47</td>\n",
       "      <td>9</td>\n",
       "      <td>129289.98</td>\n",
       "      <td>1</td>\n",
       "      <td>1</td>\n",
       "      <td>0</td>\n",
       "      <td>169935.46</td>\n",
       "    </tr>\n",
       "    <tr>\n",
       "      <th>9568</th>\n",
       "      <td>15677522</td>\n",
       "      <td>593</td>\n",
       "      <td>France</td>\n",
       "      <td>Male</td>\n",
       "      <td>33</td>\n",
       "      <td>1</td>\n",
       "      <td>0.00</td>\n",
       "      <td>2</td>\n",
       "      <td>0</td>\n",
       "      <td>0</td>\n",
       "      <td>9984.40</td>\n",
       "    </tr>\n",
       "  </tbody>\n",
       "</table>\n",
       "</div>"
      ],
      "text/plain": [
       "      customer_id  credit_score  country gender  age  tenure    balance  \\\n",
       "8234     15677796           766  Germany   Male   47       9  129289.98   \n",
       "9568     15677522           593   France   Male   33       1       0.00   \n",
       "\n",
       "      products_number  credit_card  active_member  estimated_salary  \n",
       "8234                1            1              0         169935.46  \n",
       "9568                2            0              0           9984.40  "
      ]
     },
     "execution_count": 138,
     "metadata": {},
     "output_type": "execute_result"
    }
   ],
   "source": [
    "x_train.head(2)"
   ]
  },
  {
   "cell_type": "code",
   "execution_count": null,
   "id": "2dd59487-35dd-449c-ac1f-bb4f7e1f48c8",
   "metadata": {},
   "outputs": [],
   "source": [
    "input : x : x_train, x_test\n",
    "output  y: y_train, y_test"
   ]
  }
 ],
 "metadata": {
  "kernelspec": {
   "display_name": "Python 3 (ipykernel)",
   "language": "python",
   "name": "python3"
  },
  "language_info": {
   "codemirror_mode": {
    "name": "ipython",
    "version": 3
   },
   "file_extension": ".py",
   "mimetype": "text/x-python",
   "name": "python",
   "nbconvert_exporter": "python",
   "pygments_lexer": "ipython3",
   "version": "3.11.5"
  }
 },
 "nbformat": 4,
 "nbformat_minor": 5
}
