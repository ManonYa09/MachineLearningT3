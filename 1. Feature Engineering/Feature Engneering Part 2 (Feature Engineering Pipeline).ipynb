{
 "cells": [
  {
   "cell_type": "code",
   "execution_count": 2,
   "id": "8ba5dfb6-bd6c-4d8c-9844-744ada5423d5",
   "metadata": {},
   "outputs": [],
   "source": [
    "import pandas as pd"
   ]
  },
  {
   "cell_type": "code",
   "execution_count": 4,
   "id": "3b37ec29-a6a3-4d91-a6a5-1066586c6784",
   "metadata": {},
   "outputs": [],
   "source": [
    "df = pd.read_csv('https://raw.githubusercontent.com/ManonYa09/Machine_Learning_G3/refs/heads/main/Dataset/2.%20Bank%20Customer%20Churn%20Prediction.csv')"
   ]
  },
  {
   "cell_type": "code",
   "execution_count": 22,
   "id": "778ca62a-f999-444b-a2c0-f5323408d714",
   "metadata": {},
   "outputs": [
    {
     "data": {
      "text/plain": [
       "Index(['customer_id', 'credit_score', 'country', 'gender', 'age', 'tenure',\n",
       "       'balance', 'products_number', 'credit_card', 'active_member',\n",
       "       'estimated_salary', 'churn'],\n",
       "      dtype='object')"
      ]
     },
     "execution_count": 22,
     "metadata": {},
     "output_type": "execute_result"
    }
   ],
   "source": [
    "df.columns"
   ]
  },
  {
   "cell_type": "code",
   "execution_count": 74,
   "id": "3cea6e80-b391-4d66-a88c-d664e3ed6a81",
   "metadata": {},
   "outputs": [],
   "source": [
    "from sklearn.preprocessing import OneHotEncoder, OrdinalEncoder ## Encoder\n",
    "from sklearn.preprocessing import  StandardScaler, MaxAbsScaler ## scaling\n",
    "from sklearn.preprocessing import FunctionTransformer\n",
    "from sklearn.compose import ColumnTransformer\n",
    "from sklearn.pipeline import Pipeline\n",
    "from sklearn.linear_model import LogisticRegression\n",
    "from sklearn.model_selection import train_test_split"
   ]
  },
  {
   "cell_type": "code",
   "execution_count": 53,
   "id": "5170002e-3f61-429d-93e6-6142bebee75f",
   "metadata": {},
   "outputs": [],
   "source": [
    "columns_to_drop =['customer_id']\n",
    "target = 'churn'\n",
    "cagorical = ['gender','country']\n",
    "numerical = ['credit_score', 'age', 'tenure',\n",
    "       'balance', 'products_number', 'credit_card', 'active_member',\n",
    "       'estimated_salary']"
   ]
  },
  {
   "cell_type": "code",
   "execution_count": 49,
   "id": "0281abd9-1f98-40de-9235-648ca018b989",
   "metadata": {},
   "outputs": [],
   "source": [
    "def drop_columns(df):\n",
    "    return df.drop(columns = columns_to_drop)"
   ]
  },
  {
   "cell_type": "code",
   "execution_count": 37,
   "id": "9960c595-d851-4d9d-96cd-95fd0a440b4a",
   "metadata": {},
   "outputs": [],
   "source": [
    "preprocessor = ColumnTransformer([\n",
    "    ('Encoder', OneHotEncoder(),cagorical),\n",
    "    ('Scaler', StandardScaler(), numerical),\n",
    "])"
   ]
  },
  {
   "cell_type": "code",
   "execution_count": 82,
   "id": "effbb296-74d4-4df2-a9fa-fc7987048fcc",
   "metadata": {},
   "outputs": [],
   "source": [
    "Feature_Engineering_pipeline = Pipeline([\n",
    "    ('drop_columns', FunctionTransformer(drop_columns)),\n",
    "    ('preprocessing',preprocessor)\n",
    "])"
   ]
  },
  {
   "cell_type": "code",
   "execution_count": 84,
   "id": "bee8b90c-3326-48da-a0c8-dc89b34c9a1d",
   "metadata": {},
   "outputs": [],
   "source": [
    "training_pipeline = Pipeline([\n",
    "    ('drop_columns', FunctionTransformer(drop_columns)),\n",
    "    ('preprocessing',preprocessor),\n",
    "    ('modeling', LogisticRegression())\n",
    "])"
   ]
  },
  {
   "cell_type": "markdown",
   "id": "57e76d68-b92b-401e-aed4-610a5dd67a6c",
   "metadata": {},
   "source": [
    "#### Cross Validation"
   ]
  },
  {
   "cell_type": "code",
   "execution_count": 76,
   "id": "2ea60761-c2ff-492d-a228-4e879321a195",
   "metadata": {},
   "outputs": [],
   "source": [
    "x = df.drop(columns=target)\n",
    "y = df[target]"
   ]
  },
  {
   "cell_type": "code",
   "execution_count": 80,
   "id": "685a7902-4baf-48ff-9624-aa2c0c977178",
   "metadata": {},
   "outputs": [],
   "source": [
    "X_train, X_test, y_train, y_test = train_test_split(x, y)"
   ]
  },
  {
   "cell_type": "code",
   "execution_count": 86,
   "id": "43ddba53-9d9d-4e95-af7a-d615790635c6",
   "metadata": {},
   "outputs": [
    {
     "data": {
      "text/html": [
       "<style>#sk-container-id-3 {color: black;background-color: white;}#sk-container-id-3 pre{padding: 0;}#sk-container-id-3 div.sk-toggleable {background-color: white;}#sk-container-id-3 label.sk-toggleable__label {cursor: pointer;display: block;width: 100%;margin-bottom: 0;padding: 0.3em;box-sizing: border-box;text-align: center;}#sk-container-id-3 label.sk-toggleable__label-arrow:before {content: \"▸\";float: left;margin-right: 0.25em;color: #696969;}#sk-container-id-3 label.sk-toggleable__label-arrow:hover:before {color: black;}#sk-container-id-3 div.sk-estimator:hover label.sk-toggleable__label-arrow:before {color: black;}#sk-container-id-3 div.sk-toggleable__content {max-height: 0;max-width: 0;overflow: hidden;text-align: left;background-color: #f0f8ff;}#sk-container-id-3 div.sk-toggleable__content pre {margin: 0.2em;color: black;border-radius: 0.25em;background-color: #f0f8ff;}#sk-container-id-3 input.sk-toggleable__control:checked~div.sk-toggleable__content {max-height: 200px;max-width: 100%;overflow: auto;}#sk-container-id-3 input.sk-toggleable__control:checked~label.sk-toggleable__label-arrow:before {content: \"▾\";}#sk-container-id-3 div.sk-estimator input.sk-toggleable__control:checked~label.sk-toggleable__label {background-color: #d4ebff;}#sk-container-id-3 div.sk-label input.sk-toggleable__control:checked~label.sk-toggleable__label {background-color: #d4ebff;}#sk-container-id-3 input.sk-hidden--visually {border: 0;clip: rect(1px 1px 1px 1px);clip: rect(1px, 1px, 1px, 1px);height: 1px;margin: -1px;overflow: hidden;padding: 0;position: absolute;width: 1px;}#sk-container-id-3 div.sk-estimator {font-family: monospace;background-color: #f0f8ff;border: 1px dotted black;border-radius: 0.25em;box-sizing: border-box;margin-bottom: 0.5em;}#sk-container-id-3 div.sk-estimator:hover {background-color: #d4ebff;}#sk-container-id-3 div.sk-parallel-item::after {content: \"\";width: 100%;border-bottom: 1px solid gray;flex-grow: 1;}#sk-container-id-3 div.sk-label:hover label.sk-toggleable__label {background-color: #d4ebff;}#sk-container-id-3 div.sk-serial::before {content: \"\";position: absolute;border-left: 1px solid gray;box-sizing: border-box;top: 0;bottom: 0;left: 50%;z-index: 0;}#sk-container-id-3 div.sk-serial {display: flex;flex-direction: column;align-items: center;background-color: white;padding-right: 0.2em;padding-left: 0.2em;position: relative;}#sk-container-id-3 div.sk-item {position: relative;z-index: 1;}#sk-container-id-3 div.sk-parallel {display: flex;align-items: stretch;justify-content: center;background-color: white;position: relative;}#sk-container-id-3 div.sk-item::before, #sk-container-id-3 div.sk-parallel-item::before {content: \"\";position: absolute;border-left: 1px solid gray;box-sizing: border-box;top: 0;bottom: 0;left: 50%;z-index: -1;}#sk-container-id-3 div.sk-parallel-item {display: flex;flex-direction: column;z-index: 1;position: relative;background-color: white;}#sk-container-id-3 div.sk-parallel-item:first-child::after {align-self: flex-end;width: 50%;}#sk-container-id-3 div.sk-parallel-item:last-child::after {align-self: flex-start;width: 50%;}#sk-container-id-3 div.sk-parallel-item:only-child::after {width: 0;}#sk-container-id-3 div.sk-dashed-wrapped {border: 1px dashed gray;margin: 0 0.4em 0.5em 0.4em;box-sizing: border-box;padding-bottom: 0.4em;background-color: white;}#sk-container-id-3 div.sk-label label {font-family: monospace;font-weight: bold;display: inline-block;line-height: 1.2em;}#sk-container-id-3 div.sk-label-container {text-align: center;}#sk-container-id-3 div.sk-container {/* jupyter's `normalize.less` sets `[hidden] { display: none; }` but bootstrap.min.css set `[hidden] { display: none !important; }` so we also need the `!important` here to be able to override the default hidden behavior on the sphinx rendered scikit-learn.org. See: https://github.com/scikit-learn/scikit-learn/issues/21755 */display: inline-block !important;position: relative;}#sk-container-id-3 div.sk-text-repr-fallback {display: none;}</style><div id=\"sk-container-id-3\" class=\"sk-top-container\"><div class=\"sk-text-repr-fallback\"><pre>Pipeline(steps=[(&#x27;drop_columns&#x27;,\n",
       "                 FunctionTransformer(func=&lt;function drop_columns at 0x37ea62ca0&gt;)),\n",
       "                (&#x27;preprocessing&#x27;,\n",
       "                 ColumnTransformer(transformers=[(&#x27;Encoder&#x27;, OneHotEncoder(),\n",
       "                                                  [&#x27;gender&#x27;, &#x27;country&#x27;]),\n",
       "                                                 (&#x27;Scaler&#x27;, StandardScaler(),\n",
       "                                                  [&#x27;credit_score&#x27;, &#x27;age&#x27;,\n",
       "                                                   &#x27;tenure&#x27;, &#x27;balance&#x27;,\n",
       "                                                   &#x27;products_number&#x27;,\n",
       "                                                   &#x27;credit_card&#x27;,\n",
       "                                                   &#x27;active_member&#x27;,\n",
       "                                                   &#x27;estimated_salary&#x27;])])),\n",
       "                (&#x27;modeling&#x27;, LogisticRegression())])</pre><b>In a Jupyter environment, please rerun this cell to show the HTML representation or trust the notebook. <br />On GitHub, the HTML representation is unable to render, please try loading this page with nbviewer.org.</b></div><div class=\"sk-container\" hidden><div class=\"sk-item sk-dashed-wrapped\"><div class=\"sk-label-container\"><div class=\"sk-label sk-toggleable\"><input class=\"sk-toggleable__control sk-hidden--visually\" id=\"sk-estimator-id-15\" type=\"checkbox\" ><label for=\"sk-estimator-id-15\" class=\"sk-toggleable__label sk-toggleable__label-arrow\">Pipeline</label><div class=\"sk-toggleable__content\"><pre>Pipeline(steps=[(&#x27;drop_columns&#x27;,\n",
       "                 FunctionTransformer(func=&lt;function drop_columns at 0x37ea62ca0&gt;)),\n",
       "                (&#x27;preprocessing&#x27;,\n",
       "                 ColumnTransformer(transformers=[(&#x27;Encoder&#x27;, OneHotEncoder(),\n",
       "                                                  [&#x27;gender&#x27;, &#x27;country&#x27;]),\n",
       "                                                 (&#x27;Scaler&#x27;, StandardScaler(),\n",
       "                                                  [&#x27;credit_score&#x27;, &#x27;age&#x27;,\n",
       "                                                   &#x27;tenure&#x27;, &#x27;balance&#x27;,\n",
       "                                                   &#x27;products_number&#x27;,\n",
       "                                                   &#x27;credit_card&#x27;,\n",
       "                                                   &#x27;active_member&#x27;,\n",
       "                                                   &#x27;estimated_salary&#x27;])])),\n",
       "                (&#x27;modeling&#x27;, LogisticRegression())])</pre></div></div></div><div class=\"sk-serial\"><div class=\"sk-item\"><div class=\"sk-estimator sk-toggleable\"><input class=\"sk-toggleable__control sk-hidden--visually\" id=\"sk-estimator-id-16\" type=\"checkbox\" ><label for=\"sk-estimator-id-16\" class=\"sk-toggleable__label sk-toggleable__label-arrow\">FunctionTransformer</label><div class=\"sk-toggleable__content\"><pre>FunctionTransformer(func=&lt;function drop_columns at 0x37ea62ca0&gt;)</pre></div></div></div><div class=\"sk-item sk-dashed-wrapped\"><div class=\"sk-label-container\"><div class=\"sk-label sk-toggleable\"><input class=\"sk-toggleable__control sk-hidden--visually\" id=\"sk-estimator-id-17\" type=\"checkbox\" ><label for=\"sk-estimator-id-17\" class=\"sk-toggleable__label sk-toggleable__label-arrow\">preprocessing: ColumnTransformer</label><div class=\"sk-toggleable__content\"><pre>ColumnTransformer(transformers=[(&#x27;Encoder&#x27;, OneHotEncoder(),\n",
       "                                 [&#x27;gender&#x27;, &#x27;country&#x27;]),\n",
       "                                (&#x27;Scaler&#x27;, StandardScaler(),\n",
       "                                 [&#x27;credit_score&#x27;, &#x27;age&#x27;, &#x27;tenure&#x27;, &#x27;balance&#x27;,\n",
       "                                  &#x27;products_number&#x27;, &#x27;credit_card&#x27;,\n",
       "                                  &#x27;active_member&#x27;, &#x27;estimated_salary&#x27;])])</pre></div></div></div><div class=\"sk-parallel\"><div class=\"sk-parallel-item\"><div class=\"sk-item\"><div class=\"sk-label-container\"><div class=\"sk-label sk-toggleable\"><input class=\"sk-toggleable__control sk-hidden--visually\" id=\"sk-estimator-id-18\" type=\"checkbox\" ><label for=\"sk-estimator-id-18\" class=\"sk-toggleable__label sk-toggleable__label-arrow\">Encoder</label><div class=\"sk-toggleable__content\"><pre>[&#x27;gender&#x27;, &#x27;country&#x27;]</pre></div></div></div><div class=\"sk-serial\"><div class=\"sk-item\"><div class=\"sk-estimator sk-toggleable\"><input class=\"sk-toggleable__control sk-hidden--visually\" id=\"sk-estimator-id-19\" type=\"checkbox\" ><label for=\"sk-estimator-id-19\" class=\"sk-toggleable__label sk-toggleable__label-arrow\">OneHotEncoder</label><div class=\"sk-toggleable__content\"><pre>OneHotEncoder()</pre></div></div></div></div></div></div><div class=\"sk-parallel-item\"><div class=\"sk-item\"><div class=\"sk-label-container\"><div class=\"sk-label sk-toggleable\"><input class=\"sk-toggleable__control sk-hidden--visually\" id=\"sk-estimator-id-20\" type=\"checkbox\" ><label for=\"sk-estimator-id-20\" class=\"sk-toggleable__label sk-toggleable__label-arrow\">Scaler</label><div class=\"sk-toggleable__content\"><pre>[&#x27;credit_score&#x27;, &#x27;age&#x27;, &#x27;tenure&#x27;, &#x27;balance&#x27;, &#x27;products_number&#x27;, &#x27;credit_card&#x27;, &#x27;active_member&#x27;, &#x27;estimated_salary&#x27;]</pre></div></div></div><div class=\"sk-serial\"><div class=\"sk-item\"><div class=\"sk-estimator sk-toggleable\"><input class=\"sk-toggleable__control sk-hidden--visually\" id=\"sk-estimator-id-21\" type=\"checkbox\" ><label for=\"sk-estimator-id-21\" class=\"sk-toggleable__label sk-toggleable__label-arrow\">StandardScaler</label><div class=\"sk-toggleable__content\"><pre>StandardScaler()</pre></div></div></div></div></div></div></div></div><div class=\"sk-item\"><div class=\"sk-estimator sk-toggleable\"><input class=\"sk-toggleable__control sk-hidden--visually\" id=\"sk-estimator-id-22\" type=\"checkbox\" ><label for=\"sk-estimator-id-22\" class=\"sk-toggleable__label sk-toggleable__label-arrow\">LogisticRegression</label><div class=\"sk-toggleable__content\"><pre>LogisticRegression()</pre></div></div></div></div></div></div></div>"
      ],
      "text/plain": [
       "Pipeline(steps=[('drop_columns',\n",
       "                 FunctionTransformer(func=<function drop_columns at 0x37ea62ca0>)),\n",
       "                ('preprocessing',\n",
       "                 ColumnTransformer(transformers=[('Encoder', OneHotEncoder(),\n",
       "                                                  ['gender', 'country']),\n",
       "                                                 ('Scaler', StandardScaler(),\n",
       "                                                  ['credit_score', 'age',\n",
       "                                                   'tenure', 'balance',\n",
       "                                                   'products_number',\n",
       "                                                   'credit_card',\n",
       "                                                   'active_member',\n",
       "                                                   'estimated_salary'])])),\n",
       "                ('modeling', LogisticRegression())])"
      ]
     },
     "execution_count": 86,
     "metadata": {},
     "output_type": "execute_result"
    }
   ],
   "source": [
    "training_pipeline.fit(X_train, y_train)"
   ]
  },
  {
   "cell_type": "code",
   "execution_count": 90,
   "id": "ca2883f8-5c0c-4b39-9f86-97af3eb416e6",
   "metadata": {},
   "outputs": [
    {
     "data": {
      "text/plain": [
       "array([0, 0, 0, ..., 0, 0, 0])"
      ]
     },
     "execution_count": 90,
     "metadata": {},
     "output_type": "execute_result"
    }
   ],
   "source": [
    "training_pipeline.predict(X_test)"
   ]
  },
  {
   "cell_type": "code",
   "execution_count": 61,
   "id": "df8c90f4-2153-4485-8e57-7bfaf48fb291",
   "metadata": {},
   "outputs": [
    {
     "data": {
      "text/html": [
       "<style>#sk-container-id-2 {color: black;background-color: white;}#sk-container-id-2 pre{padding: 0;}#sk-container-id-2 div.sk-toggleable {background-color: white;}#sk-container-id-2 label.sk-toggleable__label {cursor: pointer;display: block;width: 100%;margin-bottom: 0;padding: 0.3em;box-sizing: border-box;text-align: center;}#sk-container-id-2 label.sk-toggleable__label-arrow:before {content: \"▸\";float: left;margin-right: 0.25em;color: #696969;}#sk-container-id-2 label.sk-toggleable__label-arrow:hover:before {color: black;}#sk-container-id-2 div.sk-estimator:hover label.sk-toggleable__label-arrow:before {color: black;}#sk-container-id-2 div.sk-toggleable__content {max-height: 0;max-width: 0;overflow: hidden;text-align: left;background-color: #f0f8ff;}#sk-container-id-2 div.sk-toggleable__content pre {margin: 0.2em;color: black;border-radius: 0.25em;background-color: #f0f8ff;}#sk-container-id-2 input.sk-toggleable__control:checked~div.sk-toggleable__content {max-height: 200px;max-width: 100%;overflow: auto;}#sk-container-id-2 input.sk-toggleable__control:checked~label.sk-toggleable__label-arrow:before {content: \"▾\";}#sk-container-id-2 div.sk-estimator input.sk-toggleable__control:checked~label.sk-toggleable__label {background-color: #d4ebff;}#sk-container-id-2 div.sk-label input.sk-toggleable__control:checked~label.sk-toggleable__label {background-color: #d4ebff;}#sk-container-id-2 input.sk-hidden--visually {border: 0;clip: rect(1px 1px 1px 1px);clip: rect(1px, 1px, 1px, 1px);height: 1px;margin: -1px;overflow: hidden;padding: 0;position: absolute;width: 1px;}#sk-container-id-2 div.sk-estimator {font-family: monospace;background-color: #f0f8ff;border: 1px dotted black;border-radius: 0.25em;box-sizing: border-box;margin-bottom: 0.5em;}#sk-container-id-2 div.sk-estimator:hover {background-color: #d4ebff;}#sk-container-id-2 div.sk-parallel-item::after {content: \"\";width: 100%;border-bottom: 1px solid gray;flex-grow: 1;}#sk-container-id-2 div.sk-label:hover label.sk-toggleable__label {background-color: #d4ebff;}#sk-container-id-2 div.sk-serial::before {content: \"\";position: absolute;border-left: 1px solid gray;box-sizing: border-box;top: 0;bottom: 0;left: 50%;z-index: 0;}#sk-container-id-2 div.sk-serial {display: flex;flex-direction: column;align-items: center;background-color: white;padding-right: 0.2em;padding-left: 0.2em;position: relative;}#sk-container-id-2 div.sk-item {position: relative;z-index: 1;}#sk-container-id-2 div.sk-parallel {display: flex;align-items: stretch;justify-content: center;background-color: white;position: relative;}#sk-container-id-2 div.sk-item::before, #sk-container-id-2 div.sk-parallel-item::before {content: \"\";position: absolute;border-left: 1px solid gray;box-sizing: border-box;top: 0;bottom: 0;left: 50%;z-index: -1;}#sk-container-id-2 div.sk-parallel-item {display: flex;flex-direction: column;z-index: 1;position: relative;background-color: white;}#sk-container-id-2 div.sk-parallel-item:first-child::after {align-self: flex-end;width: 50%;}#sk-container-id-2 div.sk-parallel-item:last-child::after {align-self: flex-start;width: 50%;}#sk-container-id-2 div.sk-parallel-item:only-child::after {width: 0;}#sk-container-id-2 div.sk-dashed-wrapped {border: 1px dashed gray;margin: 0 0.4em 0.5em 0.4em;box-sizing: border-box;padding-bottom: 0.4em;background-color: white;}#sk-container-id-2 div.sk-label label {font-family: monospace;font-weight: bold;display: inline-block;line-height: 1.2em;}#sk-container-id-2 div.sk-label-container {text-align: center;}#sk-container-id-2 div.sk-container {/* jupyter's `normalize.less` sets `[hidden] { display: none; }` but bootstrap.min.css set `[hidden] { display: none !important; }` so we also need the `!important` here to be able to override the default hidden behavior on the sphinx rendered scikit-learn.org. See: https://github.com/scikit-learn/scikit-learn/issues/21755 */display: inline-block !important;position: relative;}#sk-container-id-2 div.sk-text-repr-fallback {display: none;}</style><div id=\"sk-container-id-2\" class=\"sk-top-container\"><div class=\"sk-text-repr-fallback\"><pre>Pipeline(steps=[(&#x27;drop_columns&#x27;,\n",
       "                 FunctionTransformer(func=&lt;function drop_columns at 0x37ea62ca0&gt;)),\n",
       "                (&#x27;preprocessing&#x27;,\n",
       "                 ColumnTransformer(transformers=[(&#x27;Encoder&#x27;, OneHotEncoder(),\n",
       "                                                  [&#x27;gender&#x27;, &#x27;country&#x27;]),\n",
       "                                                 (&#x27;Scaler&#x27;, StandardScaler(),\n",
       "                                                  [&#x27;credit_score&#x27;, &#x27;age&#x27;,\n",
       "                                                   &#x27;tenure&#x27;, &#x27;balance&#x27;,\n",
       "                                                   &#x27;products_number&#x27;,\n",
       "                                                   &#x27;credit_card&#x27;,\n",
       "                                                   &#x27;active_member&#x27;,\n",
       "                                                   &#x27;estimated_salary&#x27;])]))])</pre><b>In a Jupyter environment, please rerun this cell to show the HTML representation or trust the notebook. <br />On GitHub, the HTML representation is unable to render, please try loading this page with nbviewer.org.</b></div><div class=\"sk-container\" hidden><div class=\"sk-item sk-dashed-wrapped\"><div class=\"sk-label-container\"><div class=\"sk-label sk-toggleable\"><input class=\"sk-toggleable__control sk-hidden--visually\" id=\"sk-estimator-id-8\" type=\"checkbox\" ><label for=\"sk-estimator-id-8\" class=\"sk-toggleable__label sk-toggleable__label-arrow\">Pipeline</label><div class=\"sk-toggleable__content\"><pre>Pipeline(steps=[(&#x27;drop_columns&#x27;,\n",
       "                 FunctionTransformer(func=&lt;function drop_columns at 0x37ea62ca0&gt;)),\n",
       "                (&#x27;preprocessing&#x27;,\n",
       "                 ColumnTransformer(transformers=[(&#x27;Encoder&#x27;, OneHotEncoder(),\n",
       "                                                  [&#x27;gender&#x27;, &#x27;country&#x27;]),\n",
       "                                                 (&#x27;Scaler&#x27;, StandardScaler(),\n",
       "                                                  [&#x27;credit_score&#x27;, &#x27;age&#x27;,\n",
       "                                                   &#x27;tenure&#x27;, &#x27;balance&#x27;,\n",
       "                                                   &#x27;products_number&#x27;,\n",
       "                                                   &#x27;credit_card&#x27;,\n",
       "                                                   &#x27;active_member&#x27;,\n",
       "                                                   &#x27;estimated_salary&#x27;])]))])</pre></div></div></div><div class=\"sk-serial\"><div class=\"sk-item\"><div class=\"sk-estimator sk-toggleable\"><input class=\"sk-toggleable__control sk-hidden--visually\" id=\"sk-estimator-id-9\" type=\"checkbox\" ><label for=\"sk-estimator-id-9\" class=\"sk-toggleable__label sk-toggleable__label-arrow\">FunctionTransformer</label><div class=\"sk-toggleable__content\"><pre>FunctionTransformer(func=&lt;function drop_columns at 0x37ea62ca0&gt;)</pre></div></div></div><div class=\"sk-item sk-dashed-wrapped\"><div class=\"sk-label-container\"><div class=\"sk-label sk-toggleable\"><input class=\"sk-toggleable__control sk-hidden--visually\" id=\"sk-estimator-id-10\" type=\"checkbox\" ><label for=\"sk-estimator-id-10\" class=\"sk-toggleable__label sk-toggleable__label-arrow\">preprocessing: ColumnTransformer</label><div class=\"sk-toggleable__content\"><pre>ColumnTransformer(transformers=[(&#x27;Encoder&#x27;, OneHotEncoder(),\n",
       "                                 [&#x27;gender&#x27;, &#x27;country&#x27;]),\n",
       "                                (&#x27;Scaler&#x27;, StandardScaler(),\n",
       "                                 [&#x27;credit_score&#x27;, &#x27;age&#x27;, &#x27;tenure&#x27;, &#x27;balance&#x27;,\n",
       "                                  &#x27;products_number&#x27;, &#x27;credit_card&#x27;,\n",
       "                                  &#x27;active_member&#x27;, &#x27;estimated_salary&#x27;])])</pre></div></div></div><div class=\"sk-parallel\"><div class=\"sk-parallel-item\"><div class=\"sk-item\"><div class=\"sk-label-container\"><div class=\"sk-label sk-toggleable\"><input class=\"sk-toggleable__control sk-hidden--visually\" id=\"sk-estimator-id-11\" type=\"checkbox\" ><label for=\"sk-estimator-id-11\" class=\"sk-toggleable__label sk-toggleable__label-arrow\">Encoder</label><div class=\"sk-toggleable__content\"><pre>[&#x27;gender&#x27;, &#x27;country&#x27;]</pre></div></div></div><div class=\"sk-serial\"><div class=\"sk-item\"><div class=\"sk-estimator sk-toggleable\"><input class=\"sk-toggleable__control sk-hidden--visually\" id=\"sk-estimator-id-12\" type=\"checkbox\" ><label for=\"sk-estimator-id-12\" class=\"sk-toggleable__label sk-toggleable__label-arrow\">OneHotEncoder</label><div class=\"sk-toggleable__content\"><pre>OneHotEncoder()</pre></div></div></div></div></div></div><div class=\"sk-parallel-item\"><div class=\"sk-item\"><div class=\"sk-label-container\"><div class=\"sk-label sk-toggleable\"><input class=\"sk-toggleable__control sk-hidden--visually\" id=\"sk-estimator-id-13\" type=\"checkbox\" ><label for=\"sk-estimator-id-13\" class=\"sk-toggleable__label sk-toggleable__label-arrow\">Scaler</label><div class=\"sk-toggleable__content\"><pre>[&#x27;credit_score&#x27;, &#x27;age&#x27;, &#x27;tenure&#x27;, &#x27;balance&#x27;, &#x27;products_number&#x27;, &#x27;credit_card&#x27;, &#x27;active_member&#x27;, &#x27;estimated_salary&#x27;]</pre></div></div></div><div class=\"sk-serial\"><div class=\"sk-item\"><div class=\"sk-estimator sk-toggleable\"><input class=\"sk-toggleable__control sk-hidden--visually\" id=\"sk-estimator-id-14\" type=\"checkbox\" ><label for=\"sk-estimator-id-14\" class=\"sk-toggleable__label sk-toggleable__label-arrow\">StandardScaler</label><div class=\"sk-toggleable__content\"><pre>StandardScaler()</pre></div></div></div></div></div></div></div></div></div></div></div></div>"
      ],
      "text/plain": [
       "Pipeline(steps=[('drop_columns',\n",
       "                 FunctionTransformer(func=<function drop_columns at 0x37ea62ca0>)),\n",
       "                ('preprocessing',\n",
       "                 ColumnTransformer(transformers=[('Encoder', OneHotEncoder(),\n",
       "                                                  ['gender', 'country']),\n",
       "                                                 ('Scaler', StandardScaler(),\n",
       "                                                  ['credit_score', 'age',\n",
       "                                                   'tenure', 'balance',\n",
       "                                                   'products_number',\n",
       "                                                   'credit_card',\n",
       "                                                   'active_member',\n",
       "                                                   'estimated_salary'])]))])"
      ]
     },
     "execution_count": 61,
     "metadata": {},
     "output_type": "execute_result"
    }
   ],
   "source": [
    "Feature_Engineering_pipeline.fit(df)"
   ]
  },
  {
   "cell_type": "code",
   "execution_count": 63,
   "id": "a8cdd532-8c31-440a-8bbe-9cdea35d2e59",
   "metadata": {},
   "outputs": [],
   "source": [
    "df1 = df.sample(100)"
   ]
  },
  {
   "cell_type": "code",
   "execution_count": 65,
   "id": "8dad802f-0c57-449d-ab12-c28231397f83",
   "metadata": {},
   "outputs": [
    {
     "data": {
      "text/plain": [
       "array([[ 1.        ,  0.        ,  0.        , ...,  0.64609167,\n",
       "         0.97024255, -1.08144508],\n",
       "       [ 0.        ,  1.        ,  0.        , ...,  0.64609167,\n",
       "         0.97024255, -0.36378676],\n",
       "       [ 1.        ,  0.        ,  0.        , ...,  0.64609167,\n",
       "         0.97024255,  0.34821926],\n",
       "       ...,\n",
       "       [ 1.        ,  0.        ,  1.        , ..., -1.54776799,\n",
       "         0.97024255,  1.44261515],\n",
       "       [ 0.        ,  1.        ,  0.        , ...,  0.64609167,\n",
       "         0.97024255, -1.45104395],\n",
       "       [ 0.        ,  1.        ,  1.        , ...,  0.64609167,\n",
       "         0.97024255, -0.17443254]])"
      ]
     },
     "execution_count": 65,
     "metadata": {},
     "output_type": "execute_result"
    }
   ],
   "source": [
    "Feature_Engineering_pipeline.transform(df1)"
   ]
  },
  {
   "cell_type": "code",
   "execution_count": null,
   "id": "6cb872e1-375a-43dc-be88-4a990ad4c53c",
   "metadata": {},
   "outputs": [],
   "source": []
  }
 ],
 "metadata": {
  "kernelspec": {
   "display_name": "Python 3 (ipykernel)",
   "language": "python",
   "name": "python3"
  },
  "language_info": {
   "codemirror_mode": {
    "name": "ipython",
    "version": 3
   },
   "file_extension": ".py",
   "mimetype": "text/x-python",
   "name": "python",
   "nbconvert_exporter": "python",
   "pygments_lexer": "ipython3",
   "version": "3.11.5"
  }
 },
 "nbformat": 4,
 "nbformat_minor": 5
}
